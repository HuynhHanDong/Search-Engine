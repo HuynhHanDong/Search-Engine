{
 "cells": [
  {
   "cell_type": "code",
   "execution_count": 1,
   "id": "a5ae89f8",
   "metadata": {},
   "outputs": [],
   "source": [
    "import os\n",
    "import re\n",
    "from collections import defaultdict\n",
    "from itertools import combinations\n",
    "import nltk\n",
    "from nltk.stem import PorterStemmer"
   ]
  },
  {
   "cell_type": "code",
   "execution_count": null,
   "id": "560c22d3",
   "metadata": {},
   "outputs": [],
   "source": [
    "# Index the collection (without stemming)\n",
    "def build_inverted_index(folder_path):\n",
    "    index = defaultdict(set)\n",
    "    doc_id = 0\n",
    "\n",
    "    for filename in os.listdir(folder_path):\n",
    "        filepath = os.path.join(folder_path, filename)\n",
    "        if not os.path.isfile(filepath):\n",
    "            continue\n",
    "\n",
    "        with open(filepath, 'r', encoding='utf-8', errors='ignore') as f:\n",
    "            text = f.read().lower()\n",
    "            tokens = re.findall(r\"[a-z]+\", text)\n",
    "            for token in tokens:\n",
    "                index[token].add(doc_id)\n",
    "\n",
    "        doc_id += 1\n",
    "\n",
    "    return index"
   ]
  },
  {
   "cell_type": "code",
   "execution_count": 3,
   "id": "01a7ae31",
   "metadata": {},
   "outputs": [],
   "source": [
    "def get_first_1000_words(index):\n",
    "    vocab = sorted(index.keys())\n",
    "    return vocab[:1000]"
   ]
  },
  {
   "cell_type": "code",
   "execution_count": 4,
   "id": "91aaf79c",
   "metadata": {},
   "outputs": [],
   "source": [
    "def create_stem_classes(words):\n",
    "    stemmer = PorterStemmer()\n",
    "    stem_classes = defaultdict(list)\n",
    "    for w in words:\n",
    "        stem = stemmer.stem(w)\n",
    "        stem_classes[stem].append(w)\n",
    "    return stem_classes"
   ]
  },
  {
   "cell_type": "code",
   "execution_count": 5,
   "id": "ad11acf9",
   "metadata": {},
   "outputs": [],
   "source": [
    "def dice_coefficient(index, word1, word2):\n",
    "    docs1, docs2 = index[word1], index[word2]\n",
    "    if not docs1 or not docs2:\n",
    "        return 0.0\n",
    "    inter = len(docs1 & docs2)\n",
    "    return (2 * inter) / (len(docs1) + len(docs2))\n",
    "\n",
    "\n",
    "def compute_dice_for_stem_classes(index, stem_classes):\n",
    "    results = {}\n",
    "    for stem, words in stem_classes.items():\n",
    "        if len(words) > 1:\n",
    "            pair_scores = {}\n",
    "            for w1, w2 in combinations(words, 2):\n",
    "                score = dice_coefficient(index, w1, w2)\n",
    "                pair_scores[(w1, w2)] = score\n",
    "\n",
    "            results[stem] = pair_scores\n",
    "            \n",
    "    return results"
   ]
  },
  {
   "cell_type": "code",
   "execution_count": null,
   "id": "7f8c3d35",
   "metadata": {},
   "outputs": [
    {
     "name": "stdout",
     "output_type": "stream",
     "text": [
      "\n",
      "Stem: algorithm\n",
      " algorithm - algorithms: 1.000\n",
      "\n",
      "Stem: analyz\n",
      " analyze - analyzed: 1.000\n",
      " analyze - analyzing: 1.000\n",
      " analyzed - analyzing: 1.000\n",
      "\n",
      "Stem: appear\n",
      " appear - appeared: 1.000\n",
      "\n",
      "Stem: approach\n",
      " approach - approaches: 1.000\n",
      "\n",
      "Stem: articl\n",
      " article - articles: 1.000\n"
     ]
    }
   ],
   "source": [
    "# Path to text documents\n",
    "folder_path = \"C:/Users/HanDong/Documents/Study/Semester 5/TMG301/dataset\"\n",
    "\n",
    "index = build_inverted_index(folder_path)\n",
    "first_1000 = get_first_1000_words(index)\n",
    "stem_classes = create_stem_classes(first_1000)\n",
    "dice_results = compute_dice_for_stem_classes(index, stem_classes)\n",
    "\n",
    "# Example: print first few results\n",
    "for stem, pairs in list(dice_results.items())[:5]:\n",
    "    print(f\"\\nStem: {stem}\")\n",
    "    for (w1, w2), score in pairs.items():\n",
    "        print(f\" {w1} - {w2}: {score:.2f}\")\n"
   ]
  }
 ],
 "metadata": {
  "kernelspec": {
   "display_name": "Python 3",
   "language": "python",
   "name": "python3"
  },
  "language_info": {
   "codemirror_mode": {
    "name": "ipython",
    "version": 3
   },
   "file_extension": ".py",
   "mimetype": "text/x-python",
   "name": "python",
   "nbconvert_exporter": "python",
   "pygments_lexer": "ipython3",
   "version": "3.10.0"
  }
 },
 "nbformat": 4,
 "nbformat_minor": 5
}
