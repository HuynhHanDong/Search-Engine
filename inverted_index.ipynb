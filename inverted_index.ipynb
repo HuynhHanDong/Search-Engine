{
 "cells": [
  {
   "cell_type": "code",
   "execution_count": 1,
   "id": "937355fc",
   "metadata": {},
   "outputs": [],
   "source": [
    "from collections import defaultdict\n",
    "import re"
   ]
  },
  {
   "cell_type": "code",
   "execution_count": 2,
   "id": "3e9f7549",
   "metadata": {},
   "outputs": [],
   "source": [
    "def build_inverted_index(docs):\n",
    "    inverted_index = defaultdict(lambda: defaultdict(list))\n",
    "    \n",
    "    for doc_id, text in enumerate(docs, start=1):\n",
    "        clean_text = re.sub(r'^a-z0-9\\s', '', text.lower())\n",
    "        tokens = clean_text.split()\n",
    "        for pos, token in enumerate(tokens):\n",
    "            inverted_index[token][doc_id].append(pos)\n",
    "    \n",
    "    return inverted_index\n"
   ]
  },
  {
   "cell_type": "code",
   "execution_count": 3,
   "id": "6197b7a5",
   "metadata": {},
   "outputs": [
    {
     "name": "stdout",
     "output_type": "stream",
     "text": [
      "Locate the term 'sports':\n",
      "defaultdict(<class 'list'>, {1: [6], 2: [16]})\n",
      "\n",
      "Locate the term 'team':\n",
      "defaultdict(<class 'list'>, {1: [5], 2: [2, 15]})\n",
      "\n",
      "Locate the term 'football':\n",
      "defaultdict(<class 'list'>, {1: [0], 2: [1]})\n"
     ]
    }
   ],
   "source": [
    "# Example documents\n",
    "documents = [\n",
    "    \"Football is a family of team sports that involve, to varying degrees, kicking a ball to score a goal.\",\n",
    "    \"A football team is a group of players selected to play together in the various team sports known as football.\"\n",
    "]\n",
    "\n",
    "index = build_inverted_index(documents)\n",
    "\n",
    "print(\"Locate the term 'sports':\")\n",
    "print(index[\"sports\"])\n",
    "\n",
    "print(\"\\nLocate the term 'team':\")\n",
    "print(index[\"team\"])\n",
    "\n",
    "print(\"\\nLocate the term 'football':\")\n",
    "print(index[\"football\"])"
   ]
  }
 ],
 "metadata": {
  "kernelspec": {
   "display_name": "Python 3",
   "language": "python",
   "name": "python3"
  },
  "language_info": {
   "codemirror_mode": {
    "name": "ipython",
    "version": 3
   },
   "file_extension": ".py",
   "mimetype": "text/x-python",
   "name": "python",
   "nbconvert_exporter": "python",
   "pygments_lexer": "ipython3",
   "version": "3.10.0"
  }
 },
 "nbformat": 4,
 "nbformat_minor": 5
}
